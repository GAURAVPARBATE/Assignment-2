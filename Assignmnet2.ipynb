{
 "cells": [
  {
   "cell_type": "markdown",
   "id": "a7004c06-e33e-48b5-9c79-a56f4ddc1ecd",
   "metadata": {},
   "source": [
    "Q).1"
   ]
  },
  {
   "cell_type": "code",
   "execution_count": 3,
   "id": "67480cf4-3df1-47f2-a0f6-ec5b8c41fe7b",
   "metadata": {},
   "outputs": [
    {
     "name": "stdin",
     "output_type": "stream",
     "text": [
      "Enter your marks 95\n"
     ]
    },
    {
     "name": "stdout",
     "output_type": "stream",
     "text": [
      "you will be pa of A0 batch\n"
     ]
    }
   ],
   "source": [
    "marks = int(input(\"Enter your marks\"))\n",
    "if marks >= 80 :\n",
    "    print(\"you will be pa of A0 batch\")\n",
    "elif marks >= 60 and marks <80 :\n",
    "    print(\"you will be part of A1 batch\")\n",
    "elif marks >= 40 and marks < 60 :\n",
    "    print(\"you will be a part of A2\")\n",
    "else :\n",
    "    print(\"you will be part of A3 batch\")\n",
    "    "
   ]
  },
  {
   "cell_type": "markdown",
   "id": "99105571-c068-4d6f-a887-683f956b1c8c",
   "metadata": {},
   "source": [
    "Q).2"
   ]
  },
  {
   "cell_type": "code",
   "execution_count": null,
   "id": "d95df311-7485-4c86-8432-3715c56a7f26",
   "metadata": {},
   "outputs": [
    {
     "name": "stdin",
     "output_type": "stream",
     "text": [
      "Enter your city name:- delhi\n"
     ]
    },
    {
     "name": "stdout",
     "output_type": "stream",
     "text": [
      "your Mounment is:- Red Fort\n"
     ]
    }
   ],
   "source": [
    "city_name = input(\"Enter your city name:-\")\n",
    "if city_name == \"Delhi\" or \"delhi\":\n",
    "    print(\"your Mounment is:- Red Fort\")\n",
    "elif city_name == \"Agra\" or \"agra\":\n",
    "    print(\"your Monument is:- Taj Mahal\")\n",
    "elif city_name == \"Jaipur\" or \"jaipur\":\n",
    "    print(\"your Monument is:- Jal Mahal\")\n",
    "    "
   ]
  },
  {
   "cell_type": "markdown",
   "id": "9894aeb4-d915-49a2-a73c-990ef218f24c",
   "metadata": {},
   "source": [
    "Q).3"
   ]
  },
  {
   "cell_type": "code",
   "execution_count": null,
   "id": "540ad1cb-49e1-4a36-a049-0d13a80cff21",
   "metadata": {},
   "outputs": [
    {
     "name": "stdin",
     "output_type": "stream",
     "text": [
      "Enter bike price 9502\n"
     ]
    },
    {
     "name": "stdout",
     "output_type": "stream",
     "text": [
      "payable road tax 5%\n"
     ]
    }
   ],
   "source": [
    "Bike_price = int(input(\"Enter bike price\"))\n",
    "if Bike_price > 10000:\n",
    "    print(\"payable road tax 15%\")\n",
    "elif Bike_price  > 50000 and Bike_price<= 100000:\n",
    "    print(\"payable road tax 10%\")\n",
    "else :\n",
    "    print(\"payable road tax 5%\")\n",
    "    "
   ]
  },
  {
   "cell_type": "code",
   "execution_count": null,
   "id": "31508b3f-13cd-4f55-8434-8c27696ea209",
   "metadata": {},
   "outputs": [],
   "source": [
    "Q)"
   ]
  }
 ],
 "metadata": {
  "kernelspec": {
   "display_name": "Python 3 (ipykernel)",
   "language": "python",
   "name": "python3"
  },
  "language_info": {
   "codemirror_mode": {
    "name": "ipython",
    "version": 3
   },
   "file_extension": ".py",
   "mimetype": "text/x-python",
   "name": "python",
   "nbconvert_exporter": "python",
   "pygments_lexer": "ipython3",
   "version": "3.10.8"
  }
 },
 "nbformat": 4,
 "nbformat_minor": 5
}
